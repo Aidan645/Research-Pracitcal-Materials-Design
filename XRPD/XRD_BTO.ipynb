{
 "cells": [
  {
   "cell_type": "code",
   "execution_count": 1,
   "metadata": {},
   "outputs": [],
   "source": [
    "import numpy as np\n",
    "import matplotlib.pyplot as plt\n",
    "import pandas as pd"
   ]
  },
  {
   "cell_type": "code",
   "execution_count": 2,
   "metadata": {},
   "outputs": [],
   "source": [
    "## ## Input Parameters\n",
    "## Experimental data first, then rietveld refined.\n",
    "pathes = [\"a) Experimental BTO XRPD pattern.dat\",\"b) Rietveld refined fit of BTO XRPD pattern.dat\"]\n",
    "\n",
    "## Change this to ~1500 when saving for the last time (saves time while running to debug but change to 1500 to get high res images)\n",
    "dpi_for_saving = 900\n",
    "\n",
    "## if you get errors because have no latex in your computer you can make this False\n",
    "plt.rcParams['text.usetex'] = True "
   ]
  },
  {
   "cell_type": "code",
   "execution_count": 3,
   "metadata": {},
   "outputs": [
    {
     "ename": "FileNotFoundError",
     "evalue": "[Errno 2] No such file or directory: 'b) Rietveld refined BTO XRPD pattern.dat'",
     "output_type": "error",
     "traceback": [
      "\u001b[1;31m---------------------------------------------------------------------------\u001b[0m",
      "\u001b[1;31mFileNotFoundError\u001b[0m                         Traceback (most recent call last)",
      "Cell \u001b[1;32mIn[3], line 8\u001b[0m\n\u001b[0;32m      6\u001b[0m \u001b[38;5;28;01mfor\u001b[39;00m i \u001b[38;5;129;01min\u001b[39;00m \u001b[38;5;28mrange\u001b[39m(\u001b[38;5;28mlen\u001b[39m(pathes)):\n\u001b[0;32m      7\u001b[0m     calcdata \u001b[38;5;241m=\u001b[39m []\n\u001b[1;32m----> 8\u001b[0m     \u001b[38;5;28;01mwith\u001b[39;00m \u001b[38;5;28;43mopen\u001b[39;49m\u001b[43m(\u001b[49m\u001b[43mpathes\u001b[49m\u001b[43m[\u001b[49m\u001b[43mi\u001b[49m\u001b[43m]\u001b[49m\u001b[43m,\u001b[49m\u001b[38;5;124;43m'\u001b[39;49m\u001b[38;5;124;43mr\u001b[39;49m\u001b[38;5;124;43m'\u001b[39;49m\u001b[43m)\u001b[49m \u001b[38;5;28;01mas\u001b[39;00m file:\n\u001b[0;32m      9\u001b[0m         header \u001b[38;5;241m=\u001b[39m [\u001b[38;5;28mfloat\u001b[39m(x) \u001b[38;5;28;01mfor\u001b[39;00m x \u001b[38;5;129;01min\u001b[39;00m file\u001b[38;5;241m.\u001b[39mreadline()\u001b[38;5;241m.\u001b[39msplit()]\n\u001b[0;32m     10\u001b[0m         calcdata \u001b[38;5;241m=\u001b[39m [\u001b[38;5;28mfloat\u001b[39m(x) \u001b[38;5;28;01mfor\u001b[39;00m line \u001b[38;5;129;01min\u001b[39;00m file \u001b[38;5;28;01mfor\u001b[39;00m x \u001b[38;5;129;01min\u001b[39;00m line\u001b[38;5;241m.\u001b[39msplit()]\n",
      "File \u001b[1;32m~\\AppData\\Local\\Packages\\PythonSoftwareFoundation.Python.3.11_qbz5n2kfra8p0\\LocalCache\\local-packages\\Python311\\site-packages\\IPython\\core\\interactiveshell.py:324\u001b[0m, in \u001b[0;36m_modified_open\u001b[1;34m(file, *args, **kwargs)\u001b[0m\n\u001b[0;32m    317\u001b[0m \u001b[38;5;28;01mif\u001b[39;00m file \u001b[38;5;129;01min\u001b[39;00m {\u001b[38;5;241m0\u001b[39m, \u001b[38;5;241m1\u001b[39m, \u001b[38;5;241m2\u001b[39m}:\n\u001b[0;32m    318\u001b[0m     \u001b[38;5;28;01mraise\u001b[39;00m \u001b[38;5;167;01mValueError\u001b[39;00m(\n\u001b[0;32m    319\u001b[0m         \u001b[38;5;124mf\u001b[39m\u001b[38;5;124m\"\u001b[39m\u001b[38;5;124mIPython won\u001b[39m\u001b[38;5;124m'\u001b[39m\u001b[38;5;124mt let you open fd=\u001b[39m\u001b[38;5;132;01m{\u001b[39;00mfile\u001b[38;5;132;01m}\u001b[39;00m\u001b[38;5;124m by default \u001b[39m\u001b[38;5;124m\"\u001b[39m\n\u001b[0;32m    320\u001b[0m         \u001b[38;5;124m\"\u001b[39m\u001b[38;5;124mas it is likely to crash IPython. If you know what you are doing, \u001b[39m\u001b[38;5;124m\"\u001b[39m\n\u001b[0;32m    321\u001b[0m         \u001b[38;5;124m\"\u001b[39m\u001b[38;5;124myou can use builtins\u001b[39m\u001b[38;5;124m'\u001b[39m\u001b[38;5;124m open.\u001b[39m\u001b[38;5;124m\"\u001b[39m\n\u001b[0;32m    322\u001b[0m     )\n\u001b[1;32m--> 324\u001b[0m \u001b[38;5;28;01mreturn\u001b[39;00m \u001b[43mio_open\u001b[49m\u001b[43m(\u001b[49m\u001b[43mfile\u001b[49m\u001b[43m,\u001b[49m\u001b[43m \u001b[49m\u001b[38;5;241;43m*\u001b[39;49m\u001b[43margs\u001b[49m\u001b[43m,\u001b[49m\u001b[43m \u001b[49m\u001b[38;5;241;43m*\u001b[39;49m\u001b[38;5;241;43m*\u001b[39;49m\u001b[43mkwargs\u001b[49m\u001b[43m)\u001b[49m\n",
      "\u001b[1;31mFileNotFoundError\u001b[0m: [Errno 2] No such file or directory: 'b) Rietveld refined BTO XRPD pattern.dat'"
     ]
    },
    {
     "data": {
      "image/png": "[encoded data removed]",
      "text/plain": [
       "<Figure size 1000x700 with 3 Axes>"
      ]
     },
     "metadata": {},
     "output_type": "display_data"
    }
   ],
   "source": [
    "## Setup\n",
    "fig, axes = plt.subplots(3,1,height_ratios=[2,2,1],figsize = (10,7),sharex=True,)\n",
    "\n",
    "## Data\n",
    "datas = []\n",
    "for i in range(len(pathes)):\n",
    "    calcdata = []\n",
    "    with open(pathes[i],'r') as file:\n",
    "        header = [float(x) for x in file.readline().split()]\n",
    "        calcdata = [float(x) for line in file for x in line.split()]\n",
    "    df = pd.DataFrame(columns = [\"2theta\",\"intensity\"])\n",
    "    df[\"2theta\"] = np.arange(header[0],header[2]+0.02,header[1])\n",
    "    df[\"intensity\"] = calcdata\n",
    "    data = {\n",
    "        \"Name\": pathes[i],\n",
    "        \"data\": df\n",
    "    }\n",
    "    datas.append(data)\n",
    "\n",
    "## Peaks\n",
    "peak_pathes = [\"BTO_Peaks.csv\"]\n",
    "for i in range(len(peak_pathes)):\n",
    "    with open(peak_pathes[i],'r') as file:\n",
    "        name  = file.readline()\n",
    "        df = pd.read_csv(file,delimiter=\";\")    \n",
    "        peaks = {\n",
    "            \"Name\": name,\n",
    "            \"Data\": df\n",
    "        }   \n",
    "\n",
    "## Plot data\n",
    "leg = {\n",
    "    \"Lines\":[],\n",
    "    \"Labels\":[]\n",
    "}\n",
    "miller_indices = [[\"(100)\",\"(001)\"],[\"(110)\",\"(101)\"],[\"(111)\"],[\"(200)\",\"(002)\"],[\"(120)\",\"(201)\",\"(102)\"],[\"(121)\",\"(112)\"],[\"(220)\",\"(202)\"],[\"(300)\",\"(221)\",\"(122)\",\"(003)\"],[\"(130)\",\"(301)\",\"(013)\"],[\"(131)\",\"(113)\"]]\n",
    "for i in [0,1]:\n",
    "    leg[\"Lines\"].append(axes[i].plot(datas[i][\"data\"][\"2theta\"],datas[i][\"data\"][\"intensity\"],linewidth = 1.5,label=datas[i][\"Name\"].split(\".\")[0], color = [\"C0\",\"C1\"][i])[0])\n",
    "    leg[\"Labels\"].append(datas[i][\"Name\"].split(\".\")[0])\n",
    "    axes[i].tick_params(bottom=False)\n",
    "    \n",
    "for i in range(len(axes)):\n",
    "    #axes[i].grid()\n",
    "    axes[i].set(ylabel=\"Intensity [rel. unit]\",xlim=(10,84),ylim=(-200,2800))\n",
    "    axes[i].annotate([r\"\\textbf{a)}\",r\"\\textbf{b)}\",r\"\\textbf{c)}\"][i], (11,[2400,2400,2100][i]))\n",
    "    for x in range(len(miller_indices)):\n",
    "        if i == 1:\n",
    "            axes[i].vlines(peaks[\"Data\"][\"2theta\"][x], color=\"C3\",ymin = -400, ymax= 2000, linewidth = 1,linestyle = \"dashed\")\n",
    "            axes[i].vlines(peaks[\"Data\"][\"2theta\"][x], color=\"#dba4a5\",ymin = 2000, ymax= 2700, linewidth = 1,linestyle = \"dashed\")\n",
    "            axes[i].vlines(peaks[\"Data\"][\"2theta\"][x], color=\"C3\",ymin = 2700, ymax= 3000, linewidth = 1,linestyle = \"dashed\")\n",
    "            continue\n",
    "        axes[i].vlines(peaks[\"Data\"][\"2theta\"][x], color=\"C3\",ymin = -400, ymax= 3000, linewidth = 1,linestyle = \"dashed\")\n",
    "\n",
    "def Difference(one,two):\n",
    "    return abs(datas[one][\"data\"][\"intensity\"]-datas[two][\"data\"][\"intensity\"])\n",
    "\n",
    "def isOdd(num):\n",
    "    return num%3\n",
    "\n",
    "for x in range(len(miller_indices)):\n",
    "    axes[1].annotate(\", \".join(miller_indices[x][:-1])+(r\" \\& \" if (len(miller_indices[x])>1) else \"\")+miller_indices[x][-1],(peaks[\"Data\"][\"2theta\"][x],2500-(200*isOdd(x))),ha = \"center\")\n",
    "\n",
    "leg[\"Lines\"].append(axes[2].plot(datas[0][\"data\"][\"2theta\"],Difference(0,1),linewidth = 1.5,label= \"Difference between experimental and rietveld refined BTO XRPD pattern\",color = \"C2\")[0])\n",
    "leg[\"Labels\"].append(r\"c) Absolute difference between a) and b)\")\n",
    "axes[2].set(xlabel=r\"2$\\theta$ [degrees]\")\n",
    "axes[0].set(title =r\"XRPD spectra of BTO sample\")\n",
    "fig.legend(handles = leg[\"Lines\"],labels = leg[\"Labels\"],loc = (.63,.82))\n",
    "\n",
    "## Format\n",
    "#fig.tight_layout()\n",
    "fig.subplots_adjust(hspace=0)\n",
    "fig.show()\n",
    "fig.savefig(\"XRPD\",dpi = dpi_for_saving,bbox_inches='tight')"
   ]
  }
 ],
 "metadata": {
  "kernelspec": {
   "display_name": "Python 3",
   "language": "python",
   "name": "python3"
  },
  "language_info": {
   "codemirror_mode": {
    "name": "ipython",
    "version": 3
   },
   "file_extension": ".py",
   "mimetype": "text/x-python",
   "name": "python",
   "nbconvert_exporter": "python",
   "pygments_lexer": "ipython3",
   "version": "3.11.8"
  }
 },
 "nbformat": 4,
 "nbformat_minor": 2
}
