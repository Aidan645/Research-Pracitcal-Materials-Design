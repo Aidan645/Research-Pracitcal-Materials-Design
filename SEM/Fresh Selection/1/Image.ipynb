{
 "cells": [
  {
   "cell_type": "code",
   "execution_count": 93,
   "metadata": {},
   "outputs": [],
   "source": [
    "import numpy as np\n",
    "import matplotlib.pyplot as plt\n",
    "import pandas as pd\n",
    "import cv2"
   ]
  },
  {
   "cell_type": "code",
   "execution_count": 94,
   "metadata": {},
   "outputs": [],
   "source": [
    "def draw_rounded_rectangle(image, pt1, pt2, color, thickness=1, radius=10, label = None, lineType=cv2.LINE_8, shift=0,font=cv2.FONT_HERSHEY_PLAIN, font_scale=3, label_thickness=2):\n",
    "    x1, y1 = pt1\n",
    "    x2, y2 = pt2\n",
    "    tl = (x1 + radius, y1 + radius)\n",
    "    tr = (x2 - radius, y1 + radius)\n",
    "    bl = (x1 + radius, y2 - radius)\n",
    "    br = (x2 - radius, y2 - radius)\n",
    "\n",
    "    cv2.line(image, (tl[0], y1), (tr[0], y1), color, thickness, lineType, shift)\n",
    "    cv2.line(image, (bl[0], y2), (br[0], y2), color, thickness, lineType, shift)\n",
    "    cv2.line(image, (x1, tl[1]), (x1, bl[1]), color, thickness, lineType, shift)\n",
    "    cv2.line(image, (x2, tr[1]), (x2, br[1]), color, thickness, lineType, shift)\n",
    "\n",
    "    cv2.ellipse(image, tl, (radius, radius), 180.0, 0, 90, color, thickness, lineType, shift)\n",
    "    cv2.ellipse(image, tr, (radius, radius), 270.0, 0, 90, color, thickness, lineType, shift)\n",
    "    cv2.ellipse(image, bl, (radius, radius), 90.0, 0, 90, color, thickness, lineType, shift)\n",
    "    cv2.ellipse(image, br, (radius, radius), 0.0, 0, 90, color, thickness, lineType, shift)\n",
    "    \n",
    "    if label is not None:\n",
    "        label_size, _ = cv2.getTextSize(label, font, font_scale, label_thickness)\n",
    "        label_position = (tl[0], tl[1] + label_size[1])\n",
    "        cv2.putText(image, label, label_position, font, font_scale, color, label_thickness)\n",
    "\n",
    "    return image"
   ]
  },
  {
   "cell_type": "code",
   "execution_count": 97,
   "metadata": {},
   "outputs": [],
   "source": [
    "image = cv2.imread('G1BTO_005-1.png')\n",
    "thickness = 2  # Thickness of the rectangle border\n",
    "\n",
    "x, y, w, h = 500, 280, 400, 300\n",
    "color = (0, 255, 0)\n",
    "draw_rounded_rectangle(image, (x, y), (x + w, y + h), color, thickness,16, label = \"Zone 1\")\n",
    "\n",
    "x, y, w, h = 1200, 20, 400, 200\n",
    "color = (0, 0, 255)  # Green color in BGR\n",
    "draw_rounded_rectangle(image, (x, y), (x + w, y + h), color, thickness,16, label = \"Zone 1\")\n",
    "# Display the image with the rectangle\n",
    "cv2.imshow('Rectangle', image)\n",
    "cv2.waitKey(0)\n",
    "cv2.destroyAllWindows()\n"
   ]
  },
  {
   "cell_type": "code",
   "execution_count": 96,
   "metadata": {},
   "outputs": [
    {
     "data": {
      "text/plain": [
       "True"
      ]
     },
     "execution_count": 96,
     "metadata": {},
     "output_type": "execute_result"
    }
   ],
   "source": [
    "cv2.imwrite('output_image.jpg', image)"
   ]
  }
 ],
 "metadata": {
  "kernelspec": {
   "display_name": "Python 3",
   "language": "python",
   "name": "python3"
  },
  "language_info": {
   "codemirror_mode": {
    "name": "ipython",
    "version": 3
   },
   "file_extension": ".py",
   "mimetype": "text/x-python",
   "name": "python",
   "nbconvert_exporter": "python",
   "pygments_lexer": "ipython3",
   "version": "3.11.0"
  }
 },
 "nbformat": 4,
 "nbformat_minor": 2
}
