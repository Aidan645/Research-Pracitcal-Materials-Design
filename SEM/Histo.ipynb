{
 "cells": [
  {
   "cell_type": "code",
   "execution_count": null,
   "metadata": {},
   "outputs": [],
   "source": [
    "import numpy as np\n",
    "import matplotlib.pyplot as plt\n",
    "import pandas as pd\n",
    "\n",
    "saving_dpi = 900\n",
    "plt.rcParams['text.usetex'] = True "
   ]
  },
  {
   "cell_type": "code",
   "execution_count": null,
   "metadata": {},
   "outputs": [],
   "source": [
    "labels = [\"Average Grain Feret Diameter\", \"Average Domains Length\", \"Average Silver Nanoparticle Feret Diameter\"]\n",
    "groups = np.arange(1,7)\n",
    "\n",
    "class statmeasure:\n",
    "    \n",
    "    def __init__(self,N,M,S):\n",
    "        self.N = N\n",
    "        self.Mean = M\n",
    "        self.Std = S\n",
    "        \n",
    "    \n",
    "\n",
    "grain = [statmeasure(108,21.910,15.494),statmeasure(98,51.918,27.567),statmeasure(31,52.839,20.995),statmeasure(110,9.510,3.430),statmeasure(66,64.220,30.669),statmeasure(230,9.239,4.826)]\n",
    "domain = [statmeasure(58,0.221,0.0555),statmeasure(52,0.78,0.0373),statmeasure(99,0.269,0.0650),statmeasure(50,0.698,0.0912),statmeasure(91,1.518,0.291),statmeasure(107,1.071,0.216)]\n",
    "nps = [statmeasure(199,0.0569,0.0249),statmeasure(207,0.0424,0.0173),statmeasure(301,0.0319,0.00852),statmeasure(82,0.0529,0.0204),statmeasure(105,0.150,0.0493),statmeasure(104,0.0584,0.0221)]\n",
    "\n",
    "hatches = [\"/.\",\"x.\",\"/..\",\"x..\",\"/.\",\"x.\"]\n",
    "widths = [0.7,0.7,0.9,0.9,0.7,0.7]\n",
    "\n",
    "data = [grain,domain,nps]"
   ]
  },
  {
   "cell_type": "code",
   "execution_count": null,
   "metadata": {},
   "outputs": [],
   "source": [
    "fig, ax = plt.subplots(1,3, figsize = (12,4))\n",
    "for i in range(len(ax)):\n",
    "    ax[i].set(title = f\"{labels[i]}\",ylabel = \"Length/Diameter [$\\mu m$]\", xlabel = \"Group number\")\n",
    "    ax[i].set_xticks(groups)\n",
    "    y = [data[i][j].Mean for j in range(len(data[i]))]\n",
    "    yerr = [data[i][j].Std for j in range(len(data[i]))]\n",
    "    x = groups\n",
    "    for k in range(len(y)):\n",
    "        if y[k] == 0 : continue\n",
    "        ax[i].bar(x[k],y[k], width = widths[k],hatch=hatches[k])\n",
    "        ax[i].errorbar(x[k],y[k],yerr = yerr[k],ecolor = \"black\",capsize = 5)\n",
    "        \n",
    "\n",
    "fig.tight_layout()\n",
    "fig.show()"
   ]
  },
  {
   "cell_type": "code",
   "execution_count": null,
   "metadata": {},
   "outputs": [],
   "source": [
    "fig.savefig(\"Histo\",dpi = saving_dpi)"
   ]
  }
 ],
 "metadata": {
  "kernelspec": {
   "display_name": "Python 3",
   "language": "python",
   "name": "python3"
  },
  "language_info": {
   "codemirror_mode": {
    "name": "ipython",
    "version": 3
   },
   "file_extension": ".py",
   "mimetype": "text/x-python",
   "name": "python",
   "nbconvert_exporter": "python",
   "pygments_lexer": "ipython3",
   "version": "3.11.8"
  }
 },
 "nbformat": 4,
 "nbformat_minor": 2
}
