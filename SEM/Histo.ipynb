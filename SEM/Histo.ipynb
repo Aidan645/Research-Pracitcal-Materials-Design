{
 "cells": [
  {
   "cell_type": "code",
   "execution_count": null,
   "metadata": {},
   "outputs": [],
   "source": [
    "import numpy as np\n",
    "import matplotlib.pyplot as plt\n",
    "import pandas as pd\n",
    "\n",
    "saving_dpi = 10\n",
    "plt.rcParams['text.usetex'] = True "
   ]
  },
  {
   "cell_type": "code",
   "execution_count": null,
   "metadata": {},
   "outputs": [],
   "source": [
    "labels = [\"Average Grain Size\", \"Average Domains Size\", \"Average Silver Nanoparticle Size\"]\n",
    "groups = np.arange(1,7)\n",
    "\n",
    "class statmeasure:\n",
    "    \n",
    "    def __init__(self,N,M,S):\n",
    "        self.N = N\n",
    "        self.Mean = M\n",
    "        self.Std = S\n",
    "        \n",
    "    \n",
    "\n",
    "grain = [statmeasure(108,21.910,15.494),statmeasure(98,51.918,27.567)]\n",
    "domain = [statmeasure(58,0.221,0.0555),statmeasure(52,0.78,0.0373)]\n",
    "nps = [statmeasure(199,0.0569,0.0249),statmeasure(207,0.0424,0.0173)]\n",
    "\n",
    "\n",
    "data = np.array([grain,domain,nps])"
   ]
  },
  {
   "cell_type": "code",
   "execution_count": null,
   "metadata": {},
   "outputs": [],
   "source": [
    "fig, ax = plt.subplots(1,3, figsize = (12,4))\n",
    "for i in range(len(ax)):\n",
    "    ax[i].set(title = f\"{labels[i]}\",ylabel = \"Length/Diameter [$\\mu m$]\", xlabel = \"Group\")\n",
    "    ax[i].set_xticks(groups)\n",
    "    y = [data[i][j].N for j in range(len(data[i]))]\n",
    "    x = groups\n",
    "    for k in range(len(y)):\n",
    "        ax[i].bar(x[k],y[k])\n",
    "        \n",
    "\n",
    "fig.tight_layout()\n",
    "fig.show()"
   ]
  },
  {
   "cell_type": "code",
   "execution_count": null,
   "metadata": {},
   "outputs": [],
   "source": [
    "fig.savefig(\"Histo\",dpi = saving_dpi)"
   ]
  }
 ],
 "metadata": {
  "kernelspec": {
   "display_name": "Python 3",
   "language": "python",
   "name": "python3"
  },
  "language_info": {
   "codemirror_mode": {
    "name": "ipython",
    "version": 3
   },
   "file_extension": ".py",
   "mimetype": "text/x-python",
   "name": "python",
   "nbconvert_exporter": "python",
   "pygments_lexer": "ipython3",
   "version": "3.11.8"
  }
 },
 "nbformat": 4,
 "nbformat_minor": 2
}
